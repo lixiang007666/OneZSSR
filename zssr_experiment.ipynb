{
 "cells": [
  {
   "cell_type": "code",
   "execution_count": 12,
   "metadata": {},
   "outputs": [
    {
     "name": "stderr",
     "output_type": "stream",
     "text": [
      "loaded library: /usr/lib/x86_64-linux-gnu/libibverbs.so.1\n"
     ]
    }
   ],
   "source": [
    "import oneflow as flow\n",
    "from flowvision.transforms import transforms\n",
    "from data import ZSSRdataset, ZSSRsampler\n",
    "from utils import *\n",
    "from model import ZSSRnet\n",
    "from train import train, final_output\n",
    "import numpy as np\n",
    "from PIL import Image"
   ]
  },
  {
   "cell_type": "code",
   "execution_count": 29,
   "metadata": {},
   "outputs": [],
   "source": [
    "num_batches = 3000\n",
    "s_factor = 1.5\n",
    "device = \"cuda\"\n",
    "\n",
    "lres_img = Image.open('./images/baboon.png')"
   ]
  },
  {
   "cell_type": "code",
   "execution_count": 30,
   "metadata": {},
   "outputs": [
    {
     "data": {
      "text/plain": [
       "101"
      ]
     },
     "execution_count": 30,
     "metadata": {},
     "output_type": "execute_result"
    }
   ],
   "source": [
    "dataset = ZSSRdataset.from_image(lres_img, s_factor)\n",
    "data_sampler = ZSSRsampler(dataset)\n",
    "dataset.__len__()"
   ]
  },
  {
   "cell_type": "code",
   "execution_count": 31,
   "metadata": {},
   "outputs": [
    {
     "name": "stderr",
     "output_type": "stream",
     "text": [
      "Iteration: 425 Loss: 0.020227979868650436, Learning Rate: 0.0001 :  14%|█▍        | 426/3000 [00:10<01:05, 39.48it/s]"
     ]
    },
    {
     "name": "stdout",
     "output_type": "stream",
     "text": [
      "learning rate updated:  0.0001\n"
     ]
    },
    {
     "name": "stderr",
     "output_type": "stream",
     "text": [
      "Iteration: 725 Loss: 0.01831396482884884, Learning Rate: 1e-05 :  24%|██▍       | 726/3000 [00:18<00:59, 38.09it/s]  "
     ]
    },
    {
     "name": "stdout",
     "output_type": "stream",
     "text": [
      "learning rate updated:  1e-05\n"
     ]
    },
    {
     "name": "stderr",
     "output_type": "stream",
     "text": [
      "Iteration: 1018 Loss: 0.017024017870426178, Learning Rate: 1e-05 :  34%|███▍      | 1019/3000 [00:25<00:49, 39.89it/s] "
     ]
    },
    {
     "name": "stdout",
     "output_type": "stream",
     "text": [
      "learning rate updated:  1.0000000000000002e-06\n",
      "Training is over.\n",
      "Average Loss is 0.028558422020756227\n"
     ]
    },
    {
     "name": "stderr",
     "output_type": "stream",
     "text": [
      "\n"
     ]
    }
   ],
   "source": [
    "model = ZSSRnet()\n",
    "model.to(device)\n",
    "\n",
    "train(lres_img,\n",
    "      model,\n",
    "      data_sampler,\n",
    "      num_batches,\n",
    "      s_factor,\n",
    "      device)\n",
    "\n",
    "flow.save(model, './model/crop64/zssr1')"
   ]
  },
  {
   "cell_type": "code",
   "execution_count": 32,
   "metadata": {},
   "outputs": [],
   "source": [
    "hres_false = bicubic_resample(lres_img, s_factor)\n",
    "hres_false.save('./zssr_local_01_200_gradual_x1.5_interpolated.png')"
   ]
  },
  {
   "cell_type": "code",
   "execution_count": 33,
   "metadata": {},
   "outputs": [],
   "source": [
    "model = flow.load('./model/crop64/zssr1')\n",
    "\n",
    "final_zssr, outputs = final_output(lres_img, model, bicubic_resample, s_factor, back_projection)\n",
    "\n",
    "final_zssr.save('./zssr_local_01_200_gradual_x1.5_net_out.png')"
   ]
  }
 ],
 "metadata": {
  "kernelspec": {
   "display_name": "Python3.7",
   "language": "python",
   "name": "base"
  },
  "language_info": {
   "codemirror_mode": {
    "name": "ipython",
    "version": 3
   },
   "file_extension": ".py",
   "mimetype": "text/x-python",
   "name": "python",
   "nbconvert_exporter": "python",
   "pygments_lexer": "ipython3",
   "version": "3.7.7"
  }
 },
 "nbformat": 4,
 "nbformat_minor": 4
}
